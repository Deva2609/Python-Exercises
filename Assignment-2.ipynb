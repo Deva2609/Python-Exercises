{
 "cells": [
  {
   "cell_type": "markdown",
   "id": "f0a9c2be",
   "metadata": {},
   "source": [
    "1.Write a program that reads an integer from the user. Then your \n",
    "program should display a message indicating whether the integer is \n",
    "even or odd."
   ]
  },
  {
   "cell_type": "code",
   "execution_count": 3,
   "id": "b44d7ee8",
   "metadata": {},
   "outputs": [
    {
     "name": "stdout",
     "output_type": "stream",
     "text": [
      "Enter a number3\n",
      "3 is a odd number\n"
     ]
    }
   ],
   "source": [
    "a=int(input(\"Enter a number\"))\n",
    "if a%2==0:\n",
    "    print(a,\"is an Even number\")\n",
    "if a%2!=0:\n",
    "    print(a,\"is a odd number\")\n",
    "    \n"
   ]
  },
  {
   "cell_type": "code",
   "execution_count": 10,
   "id": "941bd43d",
   "metadata": {},
   "outputs": [
    {
     "name": "stdout",
     "output_type": "stream",
     "text": [
      "Enter a number2\n",
      "2 is an Even number\n"
     ]
    }
   ],
   "source": [
    "a=int(input(\"Enter a number\"))\n",
    "if a%2==0:\n",
    "    print(a,\"is an Even number\")\n",
    "else:\n",
    "    print(a,\"is a odd number\")"
   ]
  },
  {
   "cell_type": "markdown",
   "id": "f56f6c4a",
   "metadata": {},
   "source": [
    "2.Create a program that reads a letter of the alphabet from the user. If the user enters a, e, i, o or u then your program should display a message \n",
    "indicating that the entered letter is a vowel. If the user enters y then your program should display a message indicating that sometimes y is a \n",
    "vowel, and sometimes y is a consonant. Otherwise your program should display a message indicating that the letter is a consonant."
   ]
  },
  {
   "cell_type": "code",
   "execution_count": 1,
   "id": "14713d86",
   "metadata": {},
   "outputs": [
    {
     "name": "stdout",
     "output_type": "stream",
     "text": [
      "Enter a letter : \n",
      " is a consonant\n"
     ]
    }
   ],
   "source": [
    "z=input(\"Enter a letter : \")\n",
    "s=z.lower()\n",
    "if(s=='a'or s=='e'or s=='i'or s=='o'or s=='u'):\n",
    "    print(\"{} is a vowel\".format(s))\n",
    "elif(s=='y'):\n",
    "    print(\"sometimes y is a vowel,and sometime y is consonant\")\n",
    "else:\n",
    "    print(\"{} is a consonant\".format(s))"
   ]
  },
  {
   "cell_type": "markdown",
   "id": "451f8122",
   "metadata": {},
   "source": [
    "3.Write a program that determines the name of a shape from its number \n",
    "of sides. Read the number of sides from the user and then report the \n",
    "appropriate name as part of a meaningful message. Your program \n",
    "should support shapes with anywhere from 3 up to (and including) 10 \n",
    "sides. If a number of sides outside of this range is entered then your \n",
    "program should display an appropriate error message"
   ]
  },
  {
   "cell_type": "code",
   "execution_count": 5,
   "id": "c381ee99",
   "metadata": {},
   "outputs": [
    {
     "name": "stdout",
     "output_type": "stream",
     "text": [
      "Enter a number :4\n",
      "The shape is a Rectangle\n"
     ]
    }
   ],
   "source": [
    "A=int(input(\"Enter a number :\"))\n",
    "shape={3:'Triangle',4:'Rectangle',5:'Pentogon',6:'Hexagon',7:'Heptagon',8:'Octogon',9:'Nonogon',10:'Decogon'}\n",
    "if A==3:\n",
    "    print(\"The shape is a\" ,shape[3])\n",
    "elif A==4:\n",
    "        print(\"The shape is a\",shape[4])\n",
    "elif A==5:\n",
    "         print(\"The shape is a\",shape[5])\n",
    "elif A==6:\n",
    "         print(\"The shape is a\",shape[6])\n",
    "elif A==7:\n",
    "         print(\"The shape is a\",shape[7])\n",
    "elif A==8:\n",
    "         print(\"The shape is a\",shape[8])\n",
    "elif A==9:\n",
    "        print(\"The shape is a\",shape[9])\n",
    "elif A==10:\n",
    "        print(\"The shape is a\",shape[10])\n",
    "else:\n",
    "        print(\"The number of sides ouside of this range\")\n",
    "    \n",
    "        \n"
   ]
  },
  {
   "cell_type": "markdown",
   "id": "fb47dd7c",
   "metadata": {},
   "source": [
    "4.The length of a month varies from 28 to 31 days. In this exercise you \n",
    "will create a program that reads the name of a month from the user as a \n",
    "string. Then your program should display the number of days in that \n",
    "month. Display “28 or 29 days” for February so that leap years are \n",
    "addressed."
   ]
  },
  {
   "cell_type": "code",
   "execution_count": 7,
   "id": "fd07a805",
   "metadata": {},
   "outputs": [
    {
     "name": "stdout",
     "output_type": "stream",
     "text": [
      "Enter a month name in the year of 2020 : b\n",
      "You have entered invalid month\n"
     ]
    }
   ],
   "source": [
    "a=input(\"Enter a month name in the year of 2020 : \")\n",
    "b=a.title()\n",
    "if(b=='January') or (b=='March') or (b=='May') or (b=='July') or (b=='August') or (b=='October') or (b=='December'):\n",
    "    print(\"This month has a 31 days\")\n",
    "elif(b=='April') or (b=='June') or (b=='September') or (b=='November'):\n",
    "    print(\"This month has a 30 days\")\n",
    "elif(b=='Febraury'):\n",
    "    print(\"This year is a Leaf year\")\n",
    "else:\n",
    "    print(\"You have entered invalid month\")\n",
    "       "
   ]
  },
  {
   "cell_type": "markdown",
   "id": "1876c669",
   "metadata": {},
   "source": [
    "5.The following table lists the sound level in decibels for several common \n",
    "noises.\n",
    "Noise Decibel level (dB)\n",
    "Jackhammer 130\n",
    "Gas lawnmower 106\n",
    "Alarm clock 70\n",
    "Quiet room 40\n",
    "Write a program that reads a sound level in decibels from the user. If the user \n",
    "enters a decibel level that matches one of the noises in the table then your \n",
    "program should display a message containing only that noise. If the user\n",
    "enters a number of decibels between the noises listed then your program \n",
    "should display a message indicating which noises the level is between. Ensure \n",
    "that your program also generates reasonable output for a value smaller than \n",
    "the quietest noise in the table, and for a value larger than the loudest noise in \n",
    "the table."
   ]
  },
  {
   "cell_type": "code",
   "execution_count": 3,
   "id": "da5dada4",
   "metadata": {},
   "outputs": [
    {
     "name": "stdout",
     "output_type": "stream",
     "text": [
      "Enter a noise level in dB:40\n",
      "The noise is Jackhammer\n"
     ]
    }
   ],
   "source": [
    "s=int(input(\"Enter a noise level in dB:\"))\n",
    "if(s==40):\n",
    "    print(\"The noise is Jackhammer\")\n",
    "elif(s==106):\n",
    "    print(\"The noise is Gas lawnmower\")\n",
    "elif(s==70):\n",
    "    print(\"The noise is Alarm clock\")\n",
    "elif(s==40):\n",
    "    print(\"The noise is Quiet room\")\n",
    "elif(s>40 and s<70):\n",
    "    print(\"The noise level is between Quiet room and Alarm clock\")\n",
    "elif(s>70 and s<106):\n",
    "    print(\"The noise level is between Alarm clock and Gas lawnmower\")\n",
    "elif(s>106 and s<130):\n",
    "    print(\"The noise level is between Gas lawnmower and Jachammer\")\n",
    "elif(s<40):\n",
    "    print(\"The entered DB level is smaller than quietest noise in the table\")\n",
    "else:\n",
    "    print(\"The entered DB level is larger than loudest noise in the table\")"
   ]
  },
  {
   "cell_type": "markdown",
   "id": "5219ba08",
   "metadata": {},
   "source": [
    "6.The wavelength of visible light ranges from 380 to 750 nanometers \n",
    "(nm). While the spectrum is continuous, it is often divided into 6 colors \n",
    "as shown below:\n",
    "Color          Wavelength (nm)\n",
    "Violet       380 to less than 450\n",
    "Blue         450 to less than 495\n",
    "Green        495 to less than 570\n",
    "Yellow       570 to less than 590\n",
    "Orange       590 to less than 620\n",
    "Red          620 to 750\n",
    "Write a program that reads a wavelength from the user and reports its \n",
    "color. Display an appropriate error message if the wavelength entered by the  user is outside of the visible spectrum.\n"
   ]
  },
  {
   "cell_type": "code",
   "execution_count": 12,
   "id": "d580aa02",
   "metadata": {},
   "outputs": [
    {
     "name": "stdout",
     "output_type": "stream",
     "text": [
      "Enter a wavelength of visible spectrum in nm :620\n",
      "Spectrum color is Orange\n"
     ]
    }
   ],
   "source": [
    "s=int(input(\"Enter a wavelength of visible spectrum in nm :\"))\n",
    "if(s>=380 and s<=450):\n",
    "    print(\"Spectrum color is Violet\")\n",
    "elif(s>450 and s<=495):\n",
    "    print(\"Spectrum color is Blue\")\n",
    "elif(s>495 and s<=570):\n",
    "    print(\"Spectrum color is Green\")\n",
    "elif(s>570 and s<=590):\n",
    "    print(\"Spectrum color is Yellow\")\n",
    "elif(s>590 and s<=620):\n",
    "    print(\"Spectrum color is Orange\")\n",
    "elif(s>620 and s<=750):\n",
    "    print(\"Spectrum color is Red\")\n",
    "else:\n",
    "    print(\"The wavelength entered by the user is outside of the visible spectrum\")\n",
    "    \n",
    "    "
   ]
  },
  {
   "cell_type": "markdown",
   "id": "73e9126f",
   "metadata": {},
   "source": [
    "7.The following table lists an octave of music notes, beginning with \n",
    "middle C, along with their frequencies.\n",
    "Note   Frequency (Hz)\n",
    "C4     261.63\n",
    "D4     293.66\n",
    "E4     329.63\n",
    "F4     349.23\n",
    "G4     392.00\n",
    "A4     440.00\n",
    "B4     493.88\n",
    "Begin by writing a program that reads the name of a note from the user and \n",
    "displays the note’s frequency. Your program should support all of the notes \n",
    "listed previously.\n",
    "Once you have your program working correctly for the notes listed previously \n",
    "you should add support for all of the notes from C0 to C8. While this could be \n",
    "done by adding many additional cases to your if statement, such a solution is \n",
    "cumbersome, inelegant and unacceptable for the purposes of this exercise. \n",
    "Instead, you should exploit the relationship between notes in adjacent octaves. \n",
    "In particular, the frequency of any note in octave n is half the frequency of the \n",
    "corresponding note in octave n+1n+1. By using this relationship, you should \n",
    "be able to add support for the additional notes without adding additional cases \n",
    "to your if statement.\n",
    "Hint: To complete this exercise you will need to extract individual characters \n",
    "from the two-character note name so that you can work with the letter and the \n",
    "octave number separately. Once you have separated the parts, compute the \n",
    "frequency of the note in the fourth octave using the data in the table above. \n",
    "Then divide the frequency by 24−x24−x, where xx is the octave number entered \n",
    "by the user. This will halve or double the frequency the correct num"
   ]
  },
  {
   "cell_type": "code",
   "execution_count": 5,
   "id": "88fd5cca",
   "metadata": {},
   "outputs": [
    {
     "name": "stdout",
     "output_type": "stream",
     "text": [
      "note's list -  ['C4', 'D4', 'E4', 'F4', 'G4', 'A4', 'B4']\n",
      "Enter any note's from above given list - D4\n",
      "The frequency of the music note's is 293.66 Hz\n"
     ]
    }
   ],
   "source": [
    "n=['C4','D4','E4','F4','G4','A4','B4']\n",
    "f=[261.63,293.66,329.63,349.23,392.00,440.00,493.88]\n",
    "print(\"note's list - \",n)\n",
    "a=input(\"Enter any note's from above given list - \")\n",
    "if a=='C4':\n",
    "    print(\"The frequency of the music note's is\",f[0],\"Hz\")\n",
    "elif a=='D4':\n",
    "    print(\"The frequency of the music note's is\",f[1],\"Hz\")\n",
    "elif a=='E4':\n",
    "    print(\"The frequency of the music note's is\",f[2],\"Hz\")\n",
    "elif a=='F4':\n",
    "    print(\"The frequency of the music note's is\",f[3],\"Hz\")\n",
    "elif a=='G4':\n",
    "    print(\"The frequency of the music note's is\",f[4],\"Hz\")\n",
    "elif a=='A4':\n",
    "    print(\"The frequency of the music note's is\",f[5],\"Hz\")\n",
    "elif a=='B4':\n",
    "    print(\"The frequency of the music note's is\",f[6],\"Hz\")\n",
    "else:\n",
    "    print(\"Entered note's value not exist in given list\")\n",
    "    \n",
    "    "
   ]
  },
  {
   "cell_type": "markdown",
   "id": "af3744f2",
   "metadata": {},
   "source": [
    "9.In the previous question you converted from note name to frequency. \n",
    "In this question you will write a program that reverses that process. \n",
    "Begin by reading a frequency from the user. If the frequency is within \n",
    "one Hertz of a value listed in the table in the previous question then \n",
    "report the name of the note. Otherwise report that the frequency does \n",
    "not correspond to a known note. In this exercise you only need to \n",
    "consider the notes listed in the table. There is no need to consider notes \n",
    "from other octaves."
   ]
  },
  {
   "cell_type": "code",
   "execution_count": 12,
   "id": "738a2ec9",
   "metadata": {},
   "outputs": [
    {
     "name": "stdout",
     "output_type": "stream",
     "text": [
      "Music note's frequency list - [261.63, 293.66, 329.63, 349.23, 392.0, 440.0, 493.88]\n",
      "Enter Music note's frequency from given list -440.0\n",
      "Name of the note's is A4\n"
     ]
    }
   ],
   "source": [
    "f=[261.63,293.66,329.63,349.23,392.00,440.00,493.88]\n",
    "n=['C4','D4','E4','F4','G4','A4','B4']\n",
    "print(\"Music note's frequency list -\",f)\n",
    "m=float(input(\"Enter Music note's frequency from given list -\"))\n",
    "if m==f[0]:\n",
    "    print(\"Name of the note's is\",n[0])\n",
    "elif m==f[1]:\n",
    "    print(\"Name of the note's is\",n[1])\n",
    "elif m==f[2]:\n",
    "    print(\"Name of the note's is\",n[2])\n",
    "elif m==f[3]:\n",
    "    print(\"Name of the note's is\",n[3])\n",
    "elif m==f[4]:\n",
    "    print(\"Name of the note's is\",n[4])\n",
    "elif m==f[5]:\n",
    "    print(\"Name of the note's is\",n[5])\n",
    "elif m==f[6]:\n",
    "    print(\"Name of the note's is\",n[6])\n",
    "else:\n",
    "    print(\"Entered frequency range not exist in given list\")"
   ]
  },
  {
   "cell_type": "code",
   "execution_count": null,
   "id": "8c99a86b",
   "metadata": {},
   "outputs": [],
   "source": []
  }
 ],
 "metadata": {
  "kernelspec": {
   "display_name": "Python 3 (ipykernel)",
   "language": "python",
   "name": "python3"
  },
  "language_info": {
   "codemirror_mode": {
    "name": "ipython",
    "version": 3
   },
   "file_extension": ".py",
   "mimetype": "text/x-python",
   "name": "python",
   "nbconvert_exporter": "python",
   "pygments_lexer": "ipython3",
   "version": "3.9.13"
  }
 },
 "nbformat": 4,
 "nbformat_minor": 5
}
