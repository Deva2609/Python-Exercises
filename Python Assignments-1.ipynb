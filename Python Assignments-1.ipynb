{
 "cells": [
  {
   "cell_type": "markdown",
   "id": "bf5a39d1",
   "metadata": {},
   "source": [
    "# Python Assignment-1"
   ]
  },
  {
   "cell_type": "code",
   "execution_count": 10,
   "id": "4135dc89",
   "metadata": {},
   "outputs": [
    {
     "name": "stdout",
     "output_type": "stream",
     "text": [
      "Hello\n"
     ]
    }
   ],
   "source": [
    "Message=\"Hello\"\n",
    "print(Message)"
   ]
  },
  {
   "cell_type": "code",
   "execution_count": 15,
   "id": "4ee2d78a",
   "metadata": {},
   "outputs": [
    {
     "name": "stdout",
     "output_type": "stream",
     "text": [
      "Good morning\n"
     ]
    }
   ],
   "source": [
    "Message=\"Good morning\"\n",
    "print(Message)"
   ]
  },
  {
   "cell_type": "code",
   "execution_count": 17,
   "id": "d73ef450",
   "metadata": {},
   "outputs": [
    {
     "name": "stdout",
     "output_type": "stream",
     "text": [
      "Mohan,Are you able to Attend party Today?\n"
     ]
    }
   ],
   "source": [
    "message=\"Mohan,Are you able to Attend party Today?\"\n",
    "print(message)"
   ]
  },
  {
   "cell_type": "code",
   "execution_count": 8,
   "id": "87294f9b",
   "metadata": {},
   "outputs": [
    {
     "name": "stdout",
     "output_type": "stream",
     "text": [
      "Swami Vivekanda once said,\"You cannot believe in God until you believe in Yourserlf.\"\n"
     ]
    }
   ],
   "source": [
    "name=\"Swami Vivekanda\"\n",
    "Quote=\"You cannot believe in God until you believe in Yourserlf.\"\n",
    "print('{} once said,\"{}\"'.format(name,Quote))"
   ]
  },
  {
   "cell_type": "code",
   "execution_count": 16,
   "id": "e94e60be",
   "metadata": {
    "scrolled": false
   },
   "outputs": [
    {
     "name": "stdout",
     "output_type": "stream",
     "text": [
      "Swami Vivekanda :- \n",
      "You cannot believe in God until you believe in Yourserlf\n"
     ]
    }
   ],
   "source": [
    "a=\"Swami Vivekanda :- \"\n",
    "print(a)\n",
    "message=\"You cannot believe in God until you believe in Yourserlf\"\n",
    "print(message)\n"
   ]
  },
  {
   "cell_type": "code",
   "execution_count": 20,
   "id": "70bf513d",
   "metadata": {},
   "outputs": [
    {
     "name": "stdout",
     "output_type": "stream",
     "text": [
      "8\n",
      "8\n",
      "8\n",
      "8\n"
     ]
    }
   ],
   "source": [
    "a=4\n",
    "b=4\n",
    "print(a+b)\n",
    "c=9\n",
    "d=1\n",
    "print(c-d)\n",
    "e=2\n",
    "f=4\n",
    "print(e*f)\n",
    "g=16\n",
    "h=2\n",
    "print(int(g/h))"
   ]
  },
  {
   "cell_type": "code",
   "execution_count": 10,
   "id": "6900f8a1",
   "metadata": {},
   "outputs": [
    {
     "name": "stdout",
     "output_type": "stream",
     "text": [
      "My favorite Number is - 5\n"
     ]
    }
   ],
   "source": [
    "Favorite_Number=5\n",
    "print(\"My favorite Number is -\",Favorite_Number)\n"
   ]
  },
  {
   "cell_type": "code",
   "execution_count": 3,
   "id": "6edec3e9",
   "metadata": {},
   "outputs": [
    {
     "name": "stdout",
     "output_type": "stream",
     "text": [
      "The Epic \"Sri Ramayana Darshanam\" is written by Poet Kuvempu\n"
     ]
    }
   ],
   "source": [
    "Poet=\"Kuvempu\"\n",
    "Epic=\"Sri Ramayana Darshanam\"\n",
    "print('The Epic \"{}\" is written by Poet {}'.format(Epic,Poet))"
   ]
  },
  {
   "cell_type": "code",
   "execution_count": 7,
   "id": "4bc03b45",
   "metadata": {},
   "outputs": [
    {
     "data": {
      "text/plain": [
       "['Rahul', 'Ganesh', 'Akshay', 'Dinesh', 'Mohan']"
      ]
     },
     "execution_count": 7,
     "metadata": {},
     "output_type": "execute_result"
    }
   ],
   "source": [
    "name=\"Rahul*Ganesh*Akshay*Dinesh*Mohan\"\n",
    "name.split(\"*\")"
   ]
  },
  {
   "cell_type": "code",
   "execution_count": 15,
   "id": "5999d911",
   "metadata": {},
   "outputs": [
    {
     "name": "stdout",
     "output_type": "stream",
     "text": [
      "Hello Rahul Nice to meet you\n",
      "Hello Ganesh Nice to meet you\n",
      "Hello Akshay Nice to meet you\n",
      "Hello Dinesh Nice to meet you\n",
      "Hello Mohan Nice to meet you\n"
     ]
    }
   ],
   "source": [
    "names=['Rahul','Ganesh','Akshay','Dinesh','Mohan']\n",
    "for item in names:\n",
    "    print(\"Hello\",item,\"Nice to meet you\")"
   ]
  },
  {
   "cell_type": "code",
   "execution_count": 22,
   "id": "886ccf4c",
   "metadata": {},
   "outputs": [
    {
     "name": "stdout",
     "output_type": "stream",
     "text": [
      "Today I will go home by Motor Cycle\n",
      "Bicycle use helps reduces Air pollution\n",
      "Bicycle ride is safer than Bike ride\n",
      "Car is a four wheeler vehicle\n"
     ]
    }
   ],
   "source": [
    "Fav_Transp_mode=['Motor Cycle','Bike','Bicycle','Car']\n",
    "print(\"Today I will go home by\",Fav_Transp_mode[0])\n",
    "print(Fav_Transp_mode[2],\"use helps reduces Air pollution\")\n",
    "print(Fav_Transp_mode[2],\"ride is safer than\",Fav_Transp_mode[1],\"ride\" )\n",
    "print(Fav_Transp_mode[3],\"is a four wheeler vehicle\")"
   ]
  }
 ],
 "metadata": {
  "kernelspec": {
   "display_name": "Python 3 (ipykernel)",
   "language": "python",
   "name": "python3"
  },
  "language_info": {
   "codemirror_mode": {
    "name": "ipython",
    "version": 3
   },
   "file_extension": ".py",
   "mimetype": "text/x-python",
   "name": "python",
   "nbconvert_exporter": "python",
   "pygments_lexer": "ipython3",
   "version": "3.9.13"
  }
 },
 "nbformat": 4,
 "nbformat_minor": 5
}
